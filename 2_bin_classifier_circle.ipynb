{
 "cells": [
  {
   "cell_type": "code",
   "execution_count": 1,
   "metadata": {},
   "outputs": [
    {
     "name": "stdout",
     "output_type": "stream",
     "text": [
      "Torch v.1.12.1\n",
      "Cuda avialiable: False\n"
     ]
    }
   ],
   "source": [
    "import torch\n",
    "import torch.nn as nn\n",
    "import torch.nn.functional as F\n",
    "import torch.optim as optim\n",
    "\n",
    "def show_torch_info():\n",
    "    print(f\"Torch v.{torch.__version__}\")\n",
    "    print(f\"Cuda avialiable: {torch.cuda.is_available()}\")\n",
    "\n",
    "show_torch_info()"
   ]
  },
  {
   "cell_type": "markdown",
   "metadata": {},
   "source": [
    "### Circular binary classifier\n",
    "Note: https://lecture-demo.ira.uka.de/neural-network-demo/?preset=Binary%20Classifier%20for%20circular%20data"
   ]
  },
  {
   "cell_type": "code",
   "execution_count": 20,
   "metadata": {},
   "outputs": [],
   "source": [
    "#data\n",
    "class Circular(torch.utils.data.IterableDataset):\n",
    "    def __init__(self):\n",
    "        super().__init__()\n",
    "        self.data = [\n",
    "            (torch.tensor([1.46,1.36]), torch.tensor([0.])),\n",
    "            (torch.tensor([1.14,1.26]), torch.tensor([0.])),\n",
    "            (torch.tensor([0.96,0.97]), torch.tensor([0.])),\n",
    "            (torch.tensor([1.04,0.76]), torch.tensor([0.])),\n",
    "            (torch.tensor([1.43,0.81]), torch.tensor([0.])),\n",
    "            (torch.tensor([1.3,1.05]), torch.tensor([0.])),\n",
    "            (torch.tensor([1.45,1.22]), torch.tensor([0.])),\n",
    "            (torch.tensor([2.04,1.1]), torch.tensor([0.])),\n",
    "            (torch.tensor([1.06,0.28]), torch.tensor([0.])),\n",
    "            (torch.tensor([0.96,0.57]), torch.tensor([0.])),\n",
    "            (torch.tensor([1.28,0.46]), torch.tensor([0.])),\n",
    "            (torch.tensor([1.51,0.33]), torch.tensor([0.])),\n",
    "            (torch.tensor([1.65,0.68]), torch.tensor([0.])),\n",
    "            (torch.tensor([1.67,1.01]), torch.tensor([0.])),\n",
    "            (torch.tensor([1.97,0.55]), torch.tensor([0.])),\n",
    "\n",
    "            (torch.tensor([1.5,1.83]), torch.tensor([1.])),\n",
    "            (torch.tensor([0.76,1.69]), torch.tensor([1.])),\n",
    "            (torch.tensor([0.4,0.71]), torch.tensor([1.])),\n",
    "            (torch.tensor([0.61,1.18]), torch.tensor([1.])),\n",
    "            (torch.tensor([0.26,1.42]), torch.tensor([1.])),\n",
    "            (torch.tensor([0.28,1.89]), torch.tensor([1.])),\n",
    "            (torch.tensor([1.37,1.89]), torch.tensor([1.])),\n",
    "            (torch.tensor([1.11,1.9]), torch.tensor([1.])),\n",
    "            (torch.tensor([1.05,2.04]), torch.tensor([1.])),\n",
    "            (torch.tensor([2.43,1.42]), torch.tensor([1.])),\n",
    "            (torch.tensor([2.39,1.2]), torch.tensor([1.])),\n",
    "            (torch.tensor([2.1,1.53]), torch.tensor([1.])),\n",
    "            (torch.tensor([1.89,1.72]), torch.tensor([1.])),\n",
    "            (torch.tensor([2.69,0.72]), torch.tensor([1.])),\n",
    "            (torch.tensor([2.96,0.44]), torch.tensor([1.])),\n",
    "            (torch.tensor([2.5,0.79]), torch.tensor([1.])),\n",
    "            (torch.tensor([2.85,1.23]), torch.tensor([1.])),\n",
    "            (torch.tensor([2.82,1.37]), torch.tensor([1.])),\n",
    "            (torch.tensor([1.93,1.9]), torch.tensor([1.])),\n",
    "            (torch.tensor([2.18,1.77]), torch.tensor([1.])),\n",
    "            (torch.tensor([2.29,0.39]), torch.tensor([1.])),\n",
    "            (torch.tensor([2.57,0.22]), torch.tensor([1.])),\n",
    "            (torch.tensor([2.7,-0.11]), torch.tensor([1.])),\n",
    "            (torch.tensor([1.96,-0.2]), torch.tensor([1.])),\n",
    "            (torch.tensor([1.89,-0.1]), torch.tensor([1.])),\n",
    "            (torch.tensor([1.77,0.13]), torch.tensor([1.])),\n",
    "            (torch.tensor([0.73,0.01]), torch.tensor([1.])),\n",
    "            (torch.tensor([0.37,0.31]), torch.tensor([1.])),\n",
    "            (torch.tensor([0.46,0.44]), torch.tensor([1.])),\n",
    "            (torch.tensor([0.48,0.11]), torch.tensor([1.])),\n",
    "            (torch.tensor([0.37,-0.1]), torch.tensor([1.])),\n",
    "            (torch.tensor([1.03,-0.42]), torch.tensor([1.])),\n",
    "            (torch.tensor([1.35,-0.25]), torch.tensor([1.])),\n",
    "            (torch.tensor([1.17,0.01]), torch.tensor([1.])),\n",
    "            (torch.tensor([0.12,0.94]), torch.tensor([1.])),\n",
    "            (torch.tensor([2.05,0.32]), torch.tensor([1.])),\n",
    "        ]\n",
    "\n",
    "    def __iter__(self):\n",
    "        return iter(self.data)\n",
    "    \n",
    "    def __len__(self):\n",
    "        return len(self.data)\n",
    "\n",
    "training_set = Circular()"
   ]
  },
  {
   "cell_type": "code",
   "execution_count": 3,
   "metadata": {},
   "outputs": [
    {
     "name": "stdout",
     "output_type": "stream",
     "text": [
      "CircularBinaryClassifier(\n",
      "  (l): Linear(in_features=2, out_features=3, bias=True)\n",
      "  (out): Linear(in_features=3, out_features=1, bias=True)\n",
      ")\n"
     ]
    }
   ],
   "source": [
    "class CircularBinaryClassifier(nn.Module):\n",
    "    def __init__(self):\n",
    "        super().__init__()\n",
    "        self.l = nn.Linear(2,3)\n",
    "        self.out = nn.Linear(3,1)\n",
    "    \n",
    "    def forward(self, t):\n",
    "        t = torch.sigmoid(self.l(t))\n",
    "        t = torch.sigmoid(self.out(t))\n",
    "        return t\n",
    "\n",
    "print(CircularBinaryClassifier())"
   ]
  },
  {
   "cell_type": "code",
   "execution_count": 103,
   "metadata": {},
   "outputs": [
    {
     "name": "stdout",
     "output_type": "stream",
     "text": [
      "prepared a training set of 51 samples\n"
     ]
    }
   ],
   "source": [
    "torch.manual_seed(250) #221 250\n",
    "network = CircularBinaryClassifier()\n",
    "training_loader = torch.utils.data.DataLoader(training_set, batch_size=51)\n",
    "optimizer = optim.Adam(network.parameters(), lr=0.0002)\n",
    "loss_f = nn.MSELoss()\n",
    "NUM_EPOCHS = 120000\n",
    "\n",
    "print(f\"prepared a training set of {len(training_set)} samples\")"
   ]
  },
  {
   "cell_type": "code",
   "execution_count": 104,
   "metadata": {},
   "outputs": [],
   "source": [
    "losses_history = []\n",
    "for epoch in range(NUM_EPOCHS):\n",
    "    total_loss = 0\n",
    "    \n",
    "    for batch in training_loader:\n",
    "        inputs, expected = batch\n",
    "        \n",
    "        predictions = network(inputs)\n",
    "        loss = loss_f(predictions, expected)\n",
    "        total_loss += loss.item()\n",
    "\n",
    "        loss.backward()\n",
    "        optimizer.step()\n",
    "\n",
    "    losses_history.append(total_loss)"
   ]
  },
  {
   "cell_type": "code",
   "execution_count": 105,
   "metadata": {},
   "outputs": [
    {
     "data": {
      "image/png": "[encoded data removed]",
      "text/plain": [
       "<Figure size 432x288 with 1 Axes>"
      ]
     },
     "metadata": {
      "needs_background": "light"
     },
     "output_type": "display_data"
    }
   ],
   "source": [
    "import matplotlib.pyplot as plt\n",
    "plt.plot([l for l in losses_history])\n",
    "plt.show()"
   ]
  }
 ],
 "metadata": {
  "kernelspec": {
   "display_name": "Python 3.8.11 ('base')",
   "language": "python",
   "name": "python3"
  },
  "language_info": {
   "codemirror_mode": {
    "name": "ipython",
    "version": 3
   },
   "file_extension": ".py",
   "mimetype": "text/x-python",
   "name": "python",
   "nbconvert_exporter": "python",
   "pygments_lexer": "ipython3",
   "version": "3.8.11"
  },
  "orig_nbformat": 4,
  "vscode": {
   "interpreter": {
    "hash": "c6e9d7c75e407189987c3abc01d53e21477d4b769ecd027b85bf17a4b9b87326"
   }
  }
 },
 "nbformat": 4,
 "nbformat_minor": 2
}
