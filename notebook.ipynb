{
 "cells": [
  {
   "cell_type": "code",
   "execution_count": null,
   "metadata": {},
   "outputs": [],
   "source": [
    "import torch, numpy as np\n",
    "import torchvision\n",
    "import torchvision.transforms as transforms"
   ]
  },
  {
   "cell_type": "code",
   "execution_count": null,
   "metadata": {},
   "outputs": [],
   "source": [
    "def get_data(training):\n",
    "    return torchvision.datasets.FashionMNIST(\n",
    "        root=\"./datasets/\",\n",
    "        train=training,\n",
    "        download=True,\n",
    "        transform=transforms.ToTensor()\n",
    "    )\n",
    "\n",
    "training_set_loader =   torch.utils.data.DataLoader(get_data(training=True), batch_size=10)\n",
    "validation_set_loader = torch.utils.data.DataLoader(get_data(training=False), batch_size=10)"
   ]
  },
  {
   "cell_type": "code",
   "execution_count": null,
   "metadata": {},
   "outputs": [],
   "source": [
    "import matplotlib.pyplot as plt\n",
    "\n",
    "it = iter(validation_set_loader)\n",
    "for _ in range(2):\n",
    "    training_batch = next(it)\n",
    "    images, labels = training_batch\n",
    "\n",
    "    print(\"labels:\", labels)\n",
    "    grid = torchvision.utils.make_grid(images, nrow=10, pad_value=1)\n",
    "    print(grid.shape)\n",
    "    plt.figure(figsize=(10,60))\n",
    "    plt.imshow(np.transpose(grid, (1,2,0)))\n"
   ]
  }
 ],
 "metadata": {
  "kernelspec": {
   "display_name": "Python 3.8.11 ('base')",
   "language": "python",
   "name": "python3"
  },
  "language_info": {
   "codemirror_mode": {
    "name": "ipython",
    "version": 3
   },
   "file_extension": ".py",
   "mimetype": "text/x-python",
   "name": "python",
   "nbconvert_exporter": "python",
   "pygments_lexer": "ipython3",
   "version": "3.8.11"
  },
  "orig_nbformat": 4,
  "vscode": {
   "interpreter": {
    "hash": "c6e9d7c75e407189987c3abc01d53e21477d4b769ecd027b85bf17a4b9b87326"
   }
  }
 },
 "nbformat": 4,
 "nbformat_minor": 2
}
