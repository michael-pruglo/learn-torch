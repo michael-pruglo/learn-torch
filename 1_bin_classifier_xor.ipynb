{
 "cells": [
  {
   "cell_type": "code",
   "execution_count": 1,
   "metadata": {},
   "outputs": [
    {
     "name": "stdout",
     "output_type": "stream",
     "text": [
      "Torch v.1.12.1\n",
      "Cuda avialiable: False\n"
     ]
    }
   ],
   "source": [
    "import torch\n",
    "import torch.nn as nn\n",
    "import torch.nn.functional as F\n",
    "import torch.optim as optim\n",
    "\n",
    "def show_torch_info():\n",
    "    print(f\"Torch v.{torch.__version__}\")\n",
    "    print(f\"Cuda avialiable: {torch.cuda.is_available()}\")\n",
    "\n",
    "show_torch_info()"
   ]
  },
  {
   "cell_type": "markdown",
   "metadata": {},
   "source": [
    "### XOR binary classifier\n",
    "Note: https://lecture-demo.ira.uka.de/neural-network-demo/?preset=Binary%20Classifier%20for%20XOR"
   ]
  },
  {
   "cell_type": "code",
   "execution_count": 2,
   "metadata": {},
   "outputs": [],
   "source": [
    "#data\n",
    "class XORData(torch.utils.data.IterableDataset):\n",
    "    def __init__(self):\n",
    "        super().__init__()\n",
    "        self.xor_values = [\n",
    "            (torch.tensor([0.,0.]), torch.tensor([0.])),\n",
    "            (torch.tensor([0.,1.]), torch.tensor([1.])),\n",
    "            (torch.tensor([1.,0.]), torch.tensor([1.])),\n",
    "            (torch.tensor([1.,1.]), torch.tensor([0.])),\n",
    "        ]\n",
    "\n",
    "    def __iter__(self):\n",
    "        return iter(self.xor_values)\n",
    "\n",
    "training_set = XORData()"
   ]
  },
  {
   "cell_type": "code",
   "execution_count": 3,
   "metadata": {},
   "outputs": [
    {
     "name": "stdout",
     "output_type": "stream",
     "text": [
      "XORBinaryClassifier(\n",
      "  (l): Linear(in_features=2, out_features=2, bias=True)\n",
      "  (out): Linear(in_features=2, out_features=1, bias=True)\n",
      ")\n"
     ]
    }
   ],
   "source": [
    "class XORBinaryClassifier(nn.Module):\n",
    "    def __init__(self):\n",
    "        super().__init__()\n",
    "        self.l = nn.Linear(2,2)\n",
    "        self.out = nn.Linear(2,1)\n",
    "    \n",
    "    def forward(self, t):\n",
    "        t = torch.sigmoid(self.l(t))\n",
    "        t = torch.sigmoid(self.out(t))\n",
    "        return t\n",
    "\n",
    "print(XORBinaryClassifier())"
   ]
  },
  {
   "cell_type": "code",
   "execution_count": 28,
   "metadata": {},
   "outputs": [],
   "source": [
    "network = XORBinaryClassifier()\n",
    "training_loader = torch.utils.data.DataLoader(training_set, batch_size=1)\n",
    "optimizer = optim.SGD(network.parameters(), lr=0.05)\n",
    "loss_f = nn.MSELoss()\n",
    "NUM_EPOCHS = 600"
   ]
  },
  {
   "cell_type": "code",
   "execution_count": 29,
   "metadata": {},
   "outputs": [],
   "source": [
    "losses_history = []\n",
    "for epoch in range(NUM_EPOCHS):\n",
    "    total_loss = 0\n",
    "    for batch in training_loader:\n",
    "        inputs, expected = batch\n",
    "        predictions = network(inputs)\n",
    "        loss = loss_f(predictions, expected)\n",
    "        total_loss += loss.item()\n",
    "\n",
    "        loss.backward()\n",
    "        optimizer.step()\n",
    "    losses_history.append(total_loss)"
   ]
  },
  {
   "cell_type": "code",
   "execution_count": 30,
   "metadata": {},
   "outputs": [
    {
     "data": {
      "image/png": "[encoded data removed]",
      "text/plain": [
       "<Figure size 432x288 with 1 Axes>"
      ]
     },
     "metadata": {
      "needs_background": "light"
     },
     "output_type": "display_data"
    }
   ],
   "source": [
    "import matplotlib.pyplot as plt\n",
    "plt.plot([l for l in losses_history])\n",
    "plt.show()"
   ]
  }
 ],
 "metadata": {
  "kernelspec": {
   "display_name": "Python 3.8.11 ('base')",
   "language": "python",
   "name": "python3"
  },
  "language_info": {
   "codemirror_mode": {
    "name": "ipython",
    "version": 3
   },
   "file_extension": ".py",
   "mimetype": "text/x-python",
   "name": "python",
   "nbconvert_exporter": "python",
   "pygments_lexer": "ipython3",
   "version": "3.8.11"
  },
  "orig_nbformat": 4,
  "vscode": {
   "interpreter": {
    "hash": "c6e9d7c75e407189987c3abc01d53e21477d4b769ecd027b85bf17a4b9b87326"
   }
  }
 },
 "nbformat": 4,
 "nbformat_minor": 2
}
